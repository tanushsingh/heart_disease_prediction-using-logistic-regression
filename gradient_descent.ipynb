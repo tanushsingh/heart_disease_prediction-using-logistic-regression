{
 "cells": [
  {
   "cell_type": "code",
   "execution_count": 1,
   "id": "629579aa-7e13-4669-9ff6-8fd527def9e2",
   "metadata": {},
   "outputs": [],
   "source": [
    "import numpy as np\n",
    "import pandas as pd\n",
    "from sklearn.model_selection import train_test_split\n",
    "from numpy.random import rand\n",
    "\n",
    "import matplotlib.pyplot as plt\n"
   ]
  },
  {
   "cell_type": "code",
   "execution_count": 2,
   "id": "3937a806-9204-43aa-93e6-b3052ce88f82",
   "metadata": {},
   "outputs": [
    {
     "data": {
      "text/html": [
       "<div>\n",
       "<style scoped>\n",
       "    .dataframe tbody tr th:only-of-type {\n",
       "        vertical-align: middle;\n",
       "    }\n",
       "\n",
       "    .dataframe tbody tr th {\n",
       "        vertical-align: top;\n",
       "    }\n",
       "\n",
       "    .dataframe thead th {\n",
       "        text-align: right;\n",
       "    }\n",
       "</style>\n",
       "<table border=\"1\" class=\"dataframe\">\n",
       "  <thead>\n",
       "    <tr style=\"text-align: right;\">\n",
       "      <th></th>\n",
       "      <th>age</th>\n",
       "      <th>sex</th>\n",
       "      <th>cp</th>\n",
       "      <th>trestbps</th>\n",
       "      <th>chol</th>\n",
       "      <th>fbs</th>\n",
       "      <th>restecg</th>\n",
       "      <th>thalach</th>\n",
       "      <th>exang</th>\n",
       "      <th>oldpeak</th>\n",
       "      <th>slope</th>\n",
       "      <th>ca</th>\n",
       "      <th>thal</th>\n",
       "    </tr>\n",
       "  </thead>\n",
       "  <tbody>\n",
       "    <tr>\n",
       "      <th>0</th>\n",
       "      <td>63</td>\n",
       "      <td>1</td>\n",
       "      <td>1</td>\n",
       "      <td>145</td>\n",
       "      <td>233</td>\n",
       "      <td>1</td>\n",
       "      <td>2</td>\n",
       "      <td>150</td>\n",
       "      <td>0</td>\n",
       "      <td>2.3</td>\n",
       "      <td>3</td>\n",
       "      <td>0</td>\n",
       "      <td>6</td>\n",
       "    </tr>\n",
       "    <tr>\n",
       "      <th>1</th>\n",
       "      <td>67</td>\n",
       "      <td>1</td>\n",
       "      <td>4</td>\n",
       "      <td>160</td>\n",
       "      <td>286</td>\n",
       "      <td>0</td>\n",
       "      <td>2</td>\n",
       "      <td>108</td>\n",
       "      <td>1</td>\n",
       "      <td>1.5</td>\n",
       "      <td>2</td>\n",
       "      <td>3</td>\n",
       "      <td>3</td>\n",
       "    </tr>\n",
       "    <tr>\n",
       "      <th>2</th>\n",
       "      <td>41</td>\n",
       "      <td>0</td>\n",
       "      <td>2</td>\n",
       "      <td>130</td>\n",
       "      <td>204</td>\n",
       "      <td>0</td>\n",
       "      <td>2</td>\n",
       "      <td>172</td>\n",
       "      <td>0</td>\n",
       "      <td>1.4</td>\n",
       "      <td>1</td>\n",
       "      <td>0</td>\n",
       "      <td>3</td>\n",
       "    </tr>\n",
       "    <tr>\n",
       "      <th>3</th>\n",
       "      <td>62</td>\n",
       "      <td>0</td>\n",
       "      <td>4</td>\n",
       "      <td>140</td>\n",
       "      <td>268</td>\n",
       "      <td>0</td>\n",
       "      <td>2</td>\n",
       "      <td>160</td>\n",
       "      <td>0</td>\n",
       "      <td>3.6</td>\n",
       "      <td>3</td>\n",
       "      <td>2</td>\n",
       "      <td>3</td>\n",
       "    </tr>\n",
       "    <tr>\n",
       "      <th>4</th>\n",
       "      <td>53</td>\n",
       "      <td>1</td>\n",
       "      <td>4</td>\n",
       "      <td>140</td>\n",
       "      <td>203</td>\n",
       "      <td>1</td>\n",
       "      <td>2</td>\n",
       "      <td>155</td>\n",
       "      <td>1</td>\n",
       "      <td>3.1</td>\n",
       "      <td>3</td>\n",
       "      <td>0</td>\n",
       "      <td>7</td>\n",
       "    </tr>\n",
       "  </tbody>\n",
       "</table>\n",
       "</div>"
      ],
      "text/plain": [
       "   age  sex  cp  trestbps  chol  fbs  restecg  thalach  exang  oldpeak  slope  \\\n",
       "0   63    1   1       145   233    1        2      150      0      2.3      3   \n",
       "1   67    1   4       160   286    0        2      108      1      1.5      2   \n",
       "2   41    0   2       130   204    0        2      172      0      1.4      1   \n",
       "3   62    0   4       140   268    0        2      160      0      3.6      3   \n",
       "4   53    1   4       140   203    1        2      155      1      3.1      3   \n",
       "\n",
       "   ca  thal  \n",
       "0   0     6  \n",
       "1   3     3  \n",
       "2   0     3  \n",
       "3   2     3  \n",
       "4   0     7  "
      ]
     },
     "execution_count": 2,
     "metadata": {},
     "output_type": "execute_result"
    }
   ],
   "source": [
    "train_data = pd.read_csv(\"1644871288_9762487_cleveland-train.csv\")\n",
    "train_data.columns.values[-1] = \"positive\"\n",
    "train_data['positive'] = train_data['positive'].replace(-1,0)\n",
    "\n",
    "test_data = pd.read_csv(\"1644871288_9775174_cleveland-test.csv\")\n",
    "test_data.head()\n"
   ]
  },
  {
   "cell_type": "code",
   "execution_count": 3,
   "id": "69f8bd76-6d4f-41a6-86dd-11ed9a276fb4",
   "metadata": {},
   "outputs": [],
   "source": [
    "X = train_data.drop('positive', axis = 1).values\n",
    "y = train_data['positive']\n",
    "\n",
    "X_train,X_test,y_train,y_test=train_test_split(X,y,test_size=0.2, random_state= 20)\n"
   ]
  },
  {
   "cell_type": "code",
   "execution_count": 4,
   "id": "1b7281ed-689a-4b4d-9289-07354ecffbae",
   "metadata": {},
   "outputs": [],
   "source": [
    "# weights = rand(X.shape[1])\n",
    "weights = np.zeros(X.shape[1])\n",
    "# bias = 0\n",
    "bias = 1\n",
    "costs_obtained = []\n",
    "def normalize_data(X):\n",
    "    \n",
    "    return (X - X.mean())/X.std()\n",
    "\n",
    "def sigmoid(z):\n",
    "    return 1 / (1 + np.e**(-z))\n",
    "\n",
    "def predict(X):\n",
    "    z = bias + np.dot(X, weights)\n",
    "    return [1 if i >= 0.5 else 0 for i in sigmoid(z)]\n",
    "\n",
    "\n",
    "def cost_function(X,y):\n",
    "    value=sigmoid(bias + np.dot(X, weights))\n",
    "    val1=-y*np.log(value)\n",
    "    val2=(1-y)*(np.log(1-value))\n",
    "    final=val1-val2\n",
    "    #final=np.squeeze(final)\n",
    "    cost = np.sum(final)/len(X)\n",
    "    return cost\n",
    "\n",
    "def fit(X, y, iterations = 1000000, lr = 10**-5):\n",
    "    global weights\n",
    "    global bias\n",
    "    global costs_obtained\n",
    "    for i in range(iterations):\n",
    "        y_pred = predict(X)\n",
    "        weights -= lr * np.dot(X.T, y_pred - y)/len(X)\n",
    "        bias = bias - lr*np.sum(y_pred-y)/len(X)\n",
    "        costs_obtained.append(cost_function(X,y))\n",
    "        if abs(max(weights)) < 10**-6 and abs(bias) < 10**-3:\n",
    "            break\n"
   ]
  },
  {
   "cell_type": "code",
   "execution_count": 6,
   "id": "870a267b-95a9-4fad-a2e6-9017aa7661fe",
   "metadata": {},
   "outputs": [],
   "source": [
    "#For checking accuracy\n",
    "#####This is a testing cell#######\n",
    "\n",
    "X_norm_train = normalize_data(X_train)\n",
    "fit(X_norm_train, y_train, 1000000)"
   ]
  },
  {
   "cell_type": "code",
   "execution_count": 7,
   "id": "fba04965-bc9e-4a35-9535-cf30d4c5c8e4",
   "metadata": {
    "collapsed": true,
    "jupyter": {
     "outputs_hidden": true
    },
    "tags": []
   },
   "outputs": [
    {
     "data": {
      "text/plain": [
       "array([[-0.06074648, -0.58633309, -0.56069472, ..., -0.5735139 ,\n",
       "        -0.58633309, -0.54787553],\n",
       "       [ 0.27255235, -0.5735139 , -0.53505635, ..., -0.56069472,\n",
       "        -0.56069472, -0.49659879],\n",
       "       [-0.15048078, -0.5735139 , -0.5735139 , ..., -0.5735139 ,\n",
       "        -0.58633309, -0.54787553],\n",
       "       ...,\n",
       "       [ 0.16999886, -0.5735139 , -0.5735139 , ..., -0.5735139 ,\n",
       "        -0.56069472, -0.54787553],\n",
       "       [ 0.15717968, -0.5735139 , -0.56069472, ..., -0.56069472,\n",
       "        -0.58633309, -0.54787553],\n",
       "       [ 0.15717968, -0.5735139 , -0.53505635, ..., -0.56069472,\n",
       "        -0.56069472, -0.49659879]])"
      ]
     },
     "execution_count": 7,
     "metadata": {},
     "output_type": "execute_result"
    }
   ],
   "source": [
    "X_norm_train"
   ]
  },
  {
   "cell_type": "code",
   "execution_count": 8,
   "id": "c18a0f66-bd44-45fb-8678-73dd0267f685",
   "metadata": {},
   "outputs": [],
   "source": [
    "##For checking accuracy\n",
    "#####This is a testing cell#######\n",
    "\n",
    "\n",
    "X_norm_test = normalize_data(X_test)\n",
    "predictions = predict(X_norm_test)"
   ]
  },
  {
   "cell_type": "code",
   "execution_count": 9,
   "id": "6a5c4f15-fdc1-4770-a867-99ee8689e9ce",
   "metadata": {},
   "outputs": [
    {
     "name": "stdout",
     "output_type": "stream",
     "text": [
      "Accuracy = 0.3870967741935484\n"
     ]
    }
   ],
   "source": [
    "#####This is a testing cell#######\n",
    "\n",
    "accuracy = 0\n",
    "for i in range(len(predictions)):\n",
    "    if predictions[i] == y_test.iloc[i]:\n",
    "        accuracy += 1\n",
    "print(f\"Accuracy = {accuracy / len(predictions)}\")"
   ]
  },
  {
   "cell_type": "code",
   "execution_count": 10,
   "id": "af8a6407-711e-40c9-82fe-9bae92f32472",
   "metadata": {},
   "outputs": [
    {
     "name": "stdout",
     "output_type": "stream",
     "text": [
      "Cross Entropy error 1.1870893503304616\n"
     ]
    }
   ],
   "source": [
    "#####This is a testing cell#######\n",
    "\n",
    "J = cost_function(X_test, y_test)\n",
    "print(\"Cross Entropy error\",J)"
   ]
  },
  {
   "cell_type": "code",
   "execution_count": 11,
   "id": "4d3168e9-494b-4fc5-bc81-a650abff5975",
   "metadata": {},
   "outputs": [
    {
     "data": {
      "image/png": "[encoded data removed]",
      "text/plain": [
       "<Figure size 432x288 with 1 Axes>"
      ]
     },
     "metadata": {
      "needs_background": "light"
     },
     "output_type": "display_data"
    }
   ],
   "source": [
    "#####This is a testing cell#######\n",
    "\n",
    "plt.clf()\n",
    "plt.scatter(X_test[:,0], y_test, c = 'blue')\n",
    "plt.scatter(X_test[:,0], predictions, c = \"red\")\n",
    "\n",
    "plt.show()"
   ]
  },
  {
   "cell_type": "code",
   "execution_count": 12,
   "id": "e9c4ce73-bef1-450b-abbf-fb8323f4d85b",
   "metadata": {},
   "outputs": [
    {
     "data": {
      "text/plain": [
       "[<matplotlib.lines.Line2D at 0x7fa7701932b0>]"
      ]
     },
     "execution_count": 12,
     "metadata": {},
     "output_type": "execute_result"
    },
    {
     "data": {
      "image/png": "[encoded data removed]",
      "text/plain": [
       "<Figure size 432x288 with 1 Axes>"
      ]
     },
     "metadata": {
      "needs_background": "light"
     },
     "output_type": "display_data"
    }
   ],
   "source": [
    "#####This is a testing cell#######\n",
    "\n",
    "iters = 1000000\n",
    "plt.plot(list(range(iters)), costs_obtained, '-r')"
   ]
  },
  {
   "cell_type": "code",
   "execution_count": 25,
   "id": "182dcf8c-10c2-444e-a5a0-7ce4ef2d670a",
   "metadata": {},
   "outputs": [],
   "source": [
    "#For actual predictions\n",
    "#####This cell is for prediction#######\n",
    "\n",
    "# X_norm = normalize_data(X)\n",
    "# fit(X_norm, y)\n"
   ]
  },
  {
   "cell_type": "code",
   "execution_count": 9,
   "id": "c8396848-fe45-4c79-a411-3334051f5951",
   "metadata": {},
   "outputs": [],
   "source": [
    "# X_test.shape"
   ]
  },
  {
   "cell_type": "code",
   "execution_count": 26,
   "id": "175f4222-6fb0-4703-807b-2fbd70787298",
   "metadata": {},
   "outputs": [],
   "source": [
    "#For actual predictions\n",
    "#####This cell is for prediction#######\n",
    "\n",
    "# X_norm_test = normalize_data(test_data)\n",
    "# predictions_output = predict(X_norm_test)\n"
   ]
  },
  {
   "cell_type": "code",
   "execution_count": 28,
   "id": "9daf0a37-d4ae-4207-8dee-1a6e491d6638",
   "metadata": {},
   "outputs": [],
   "source": [
    "#####This cell is for prediction#######\n",
    "\n",
    "for i in range(len(predictions_output)):\n",
    "  \n",
    "    if predictions_output[i] == 0:\n",
    "        predictions_output[i] = -1\n"
   ]
  },
  {
   "cell_type": "code",
   "execution_count": 29,
   "id": "2db21e6a-b5ea-43e1-b69d-26d4854722d0",
   "metadata": {
    "collapsed": true,
    "jupyter": {
     "outputs_hidden": true
    },
    "tags": []
   },
   "outputs": [
    {
     "data": {
      "text/plain": [
       "[-1,\n",
       " 1,\n",
       " 1,\n",
       " 1,\n",
       " 1,\n",
       " 1,\n",
       " -1,\n",
       " -1,\n",
       " -1,\n",
       " 1,\n",
       " -1,\n",
       " -1,\n",
       " -1,\n",
       " 1,\n",
       " 1,\n",
       " -1,\n",
       " 1,\n",
       " 1,\n",
       " -1,\n",
       " 1,\n",
       " -1,\n",
       " 1,\n",
       " 1,\n",
       " 1,\n",
       " 1,\n",
       " 1,\n",
       " 1,\n",
       " -1,\n",
       " -1,\n",
       " 1,\n",
       " 1,\n",
       " 1,\n",
       " -1,\n",
       " 1,\n",
       " 1,\n",
       " 1,\n",
       " 1,\n",
       " -1,\n",
       " 1,\n",
       " -1,\n",
       " -1,\n",
       " -1,\n",
       " -1,\n",
       " -1,\n",
       " 1,\n",
       " -1,\n",
       " -1,\n",
       " 1,\n",
       " -1,\n",
       " -1,\n",
       " 1,\n",
       " -1,\n",
       " -1,\n",
       " -1,\n",
       " 1,\n",
       " 1,\n",
       " -1,\n",
       " 1,\n",
       " 1,\n",
       " 1,\n",
       " 1,\n",
       " 1,\n",
       " 1,\n",
       " -1,\n",
       " -1,\n",
       " -1,\n",
       " 1,\n",
       " 1,\n",
       " -1,\n",
       " 1,\n",
       " 1,\n",
       " -1,\n",
       " -1,\n",
       " 1,\n",
       " 1,\n",
       " -1,\n",
       " -1,\n",
       " 1,\n",
       " 1,\n",
       " 1,\n",
       " 1,\n",
       " -1,\n",
       " 1,\n",
       " 1,\n",
       " -1,\n",
       " 1,\n",
       " -1,\n",
       " 1,\n",
       " -1,\n",
       " 1,\n",
       " 1,\n",
       " 1,\n",
       " 1,\n",
       " 1,\n",
       " -1,\n",
       " -1,\n",
       " 1,\n",
       " -1,\n",
       " 1,\n",
       " 1,\n",
       " -1,\n",
       " -1,\n",
       " 1,\n",
       " 1,\n",
       " 1,\n",
       " 1,\n",
       " 1,\n",
       " -1,\n",
       " 1,\n",
       " -1,\n",
       " -1,\n",
       " 1,\n",
       " -1,\n",
       " 1,\n",
       " 1,\n",
       " 1,\n",
       " -1,\n",
       " 1,\n",
       " -1,\n",
       " 1,\n",
       " 1,\n",
       " -1,\n",
       " 1,\n",
       " 1,\n",
       " -1,\n",
       " -1,\n",
       " -1,\n",
       " 1,\n",
       " -1,\n",
       " 1,\n",
       " 1,\n",
       " 1,\n",
       " -1,\n",
       " -1,\n",
       " -1,\n",
       " -1,\n",
       " -1,\n",
       " 1,\n",
       " 1,\n",
       " 1,\n",
       " -1,\n",
       " -1,\n",
       " 1,\n",
       " 1,\n",
       " 1]"
      ]
     },
     "execution_count": 29,
     "metadata": {},
     "output_type": "execute_result"
    }
   ],
   "source": [
    "#####This cell is for prediction#######\n",
    "predictions_output"
   ]
  },
  {
   "cell_type": "code",
   "execution_count": 30,
   "id": "22613e2d-d994-43cf-876d-220718e9babe",
   "metadata": {},
   "outputs": [],
   "source": [
    "#####This cell is for prediction#######\n",
    "\n",
    "new_file = open('predictions.dat','w')\n",
    "\n",
    "for element in predictions_output:\n",
    "      new_file.write(str(element))\n",
    "      new_file.write('\\n')\n",
    "new_file.close()"
   ]
  },
  {
   "cell_type": "code",
   "execution_count": null,
   "id": "ddd35206-2e08-4b8b-b191-19fd6a5b4879",
   "metadata": {},
   "outputs": [],
   "source": []
  }
 ],
 "metadata": {
  "kernelspec": {
   "display_name": "Python 3",
   "language": "python",
   "name": "python3"
  },
  "language_info": {
   "codemirror_mode": {
    "name": "ipython",
    "version": 3
   },
   "file_extension": ".py",
   "mimetype": "text/x-python",
   "name": "python",
   "nbconvert_exporter": "python",
   "pygments_lexer": "ipython3",
   "version": "3.8.8"
  }
 },
 "nbformat": 4,
 "nbformat_minor": 5
}
